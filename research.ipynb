{
 "cells": [
  {
   "cell_type": "markdown",
   "metadata": {},
   "source": [
    "# DQN Atari Paper Implementation"
   ]
  },
  {
   "cell_type": "code",
   "execution_count": 1,
   "metadata": {},
   "outputs": [
    {
     "name": "stdout",
     "output_type": "stream",
     "text": [
      "[NbConvertApp] WARNING | pattern 'config_template.ipynb' matched no files\n",
      "This application is used to convert notebook files (*.ipynb)\n",
      "        to various other formats.\n",
      "\n",
      "        WARNING: THE COMMANDLINE INTERFACE MAY CHANGE IN FUTURE RELEASES.\n",
      "\n",
      "Options\n",
      "=======\n",
      "The options below are convenience aliases to configurable class-options,\n",
      "as listed in the \"Equivalent to\" description-line of the aliases.\n",
      "To see all configurable class-options for some <cmd>, use:\n",
      "    <cmd> --help-all\n",
      "\n",
      "--debug\n",
      "    set log level to logging.DEBUG (maximize logging output)\n",
      "    Equivalent to: [--Application.log_level=10]\n",
      "--show-config\n",
      "    Show the application's configuration (human-readable format)\n",
      "    Equivalent to: [--Application.show_config=True]\n",
      "--show-config-json\n",
      "    Show the application's configuration (json format)\n",
      "    Equivalent to: [--Application.show_config_json=True]\n",
      "--generate-config\n",
      "    generate default config file\n",
      "    Equivalent to: [--JupyterApp.generate_config=True]\n",
      "-y\n",
      "    Answer yes to any questions instead of prompting.\n",
      "    Equivalent to: [--JupyterApp.answer_yes=True]\n",
      "--execute\n",
      "    Execute the notebook prior to export.\n",
      "    Equivalent to: [--ExecutePreprocessor.enabled=True]\n",
      "--allow-errors\n",
      "    Continue notebook execution even if one of the cells throws an error and include the error message in the cell output (the default behaviour is to abort conversion). This flag is only relevant if '--execute' was specified, too.\n",
      "    Equivalent to: [--ExecutePreprocessor.allow_errors=True]\n",
      "--stdin\n",
      "    read a single notebook file from stdin. Write the resulting notebook with default basename 'notebook.*'\n",
      "    Equivalent to: [--NbConvertApp.from_stdin=True]\n",
      "--stdout\n",
      "    Write notebook output to stdout instead of files.\n",
      "    Equivalent to: [--NbConvertApp.writer_class=StdoutWriter]\n",
      "--inplace\n",
      "    Run nbconvert in place, overwriting the existing notebook (only\n",
      "            relevant when converting to notebook format)\n",
      "    Equivalent to: [--NbConvertApp.use_output_suffix=False --NbConvertApp.export_format=notebook --FilesWriter.build_directory=]\n",
      "--clear-output\n",
      "    Clear output of current file and save in place,\n",
      "            overwriting the existing notebook.\n",
      "    Equivalent to: [--NbConvertApp.use_output_suffix=False --NbConvertApp.export_format=notebook --FilesWriter.build_directory= --ClearOutputPreprocessor.enabled=True]\n",
      "--no-prompt\n",
      "    Exclude input and output prompts from converted document.\n",
      "    Equivalent to: [--TemplateExporter.exclude_input_prompt=True --TemplateExporter.exclude_output_prompt=True]\n",
      "--no-input\n",
      "    Exclude input cells and output prompts from converted document.\n",
      "            This mode is ideal for generating code-free reports.\n",
      "    Equivalent to: [--TemplateExporter.exclude_output_prompt=True --TemplateExporter.exclude_input=True --TemplateExporter.exclude_input_prompt=True]\n",
      "--allow-chromium-download\n",
      "    Whether to allow downloading chromium if no suitable version is found on the system.\n",
      "    Equivalent to: [--WebPDFExporter.allow_chromium_download=True]\n",
      "--disable-chromium-sandbox\n",
      "    Disable chromium security sandbox when converting to PDF..\n",
      "    Equivalent to: [--WebPDFExporter.disable_sandbox=True]\n",
      "--show-input\n",
      "    Shows code input. This flag is only useful for dejavu users.\n",
      "    Equivalent to: [--TemplateExporter.exclude_input=False]\n",
      "--embed-images\n",
      "    Embed the images as base64 dataurls in the output. This flag is only useful for the HTML/WebPDF/Slides exports.\n",
      "    Equivalent to: [--HTMLExporter.embed_images=True]\n",
      "--sanitize-html\n",
      "    Whether the HTML in Markdown cells and cell outputs should be sanitized..\n",
      "    Equivalent to: [--HTMLExporter.sanitize_html=True]\n",
      "--log-level=<Enum>\n",
      "    Set the log level by value or name.\n",
      "    Choices: any of [0, 10, 20, 30, 40, 50, 'DEBUG', 'INFO', 'WARN', 'ERROR', 'CRITICAL']\n",
      "    Default: 30\n",
      "    Equivalent to: [--Application.log_level]\n",
      "--config=<Unicode>\n",
      "    Full path of a config file.\n",
      "    Default: ''\n",
      "    Equivalent to: [--JupyterApp.config_file]\n",
      "--to=<Unicode>\n",
      "    The export format to be used, either one of the built-in formats\n",
      "            ['asciidoc', 'custom', 'html', 'latex', 'markdown', 'notebook', 'pdf', 'python', 'qtpdf', 'qtpng', 'rst', 'script', 'slides', 'webpdf']\n",
      "            or a dotted object name that represents the import path for an\n",
      "            ``Exporter`` class\n",
      "    Default: ''\n",
      "    Equivalent to: [--NbConvertApp.export_format]\n",
      "--template=<Unicode>\n",
      "    Name of the template to use\n",
      "    Default: ''\n",
      "    Equivalent to: [--TemplateExporter.template_name]\n",
      "--template-file=<Unicode>\n",
      "    Name of the template file to use\n",
      "    Default: None\n",
      "    Equivalent to: [--TemplateExporter.template_file]\n",
      "--theme=<Unicode>\n",
      "    Template specific theme(e.g. the name of a JupyterLab CSS theme distributed\n",
      "    as prebuilt extension for the lab template)\n",
      "    Default: 'light'\n",
      "    Equivalent to: [--HTMLExporter.theme]\n",
      "--sanitize_html=<Bool>\n",
      "    Whether the HTML in Markdown cells and cell outputs should be sanitized.This\n",
      "    should be set to True by nbviewer or similar tools.\n",
      "    Default: False\n",
      "    Equivalent to: [--HTMLExporter.sanitize_html]\n",
      "--writer=<DottedObjectName>\n",
      "    Writer class used to write the\n",
      "                                        results of the conversion\n",
      "    Default: 'FilesWriter'\n",
      "    Equivalent to: [--NbConvertApp.writer_class]\n",
      "--post=<DottedOrNone>\n",
      "    PostProcessor class used to write the\n",
      "                                        results of the conversion\n",
      "    Default: ''\n",
      "    Equivalent to: [--NbConvertApp.postprocessor_class]\n",
      "--output=<Unicode>\n",
      "    Overwrite base name use for output files.\n",
      "                Supports pattern replacements '{notebook_name}'.\n",
      "    Default: '{notebook_name}'\n",
      "    Equivalent to: [--NbConvertApp.output_base]\n",
      "--output-dir=<Unicode>\n",
      "    Directory to write output(s) to. Defaults\n",
      "                                  to output to the directory of each notebook. To recover\n",
      "                                  previous default behaviour (outputting to the current\n",
      "                                  working directory) use . as the flag value.\n",
      "    Default: ''\n",
      "    Equivalent to: [--FilesWriter.build_directory]\n",
      "--reveal-prefix=<Unicode>\n",
      "    The URL prefix for reveal.js (version 3.x).\n",
      "            This defaults to the reveal CDN, but can be any url pointing to a copy\n",
      "            of reveal.js.\n",
      "            For speaker notes to work, this must be a relative path to a local\n",
      "            copy of reveal.js: e.g., \"reveal.js\".\n",
      "            If a relative path is given, it must be a subdirectory of the\n",
      "            current directory (from which the server is run).\n",
      "            See the usage documentation\n",
      "            (https://nbconvert.readthedocs.io/en/latest/usage.html#reveal-js-html-slideshow)\n",
      "            for more details.\n",
      "    Default: ''\n",
      "    Equivalent to: [--SlidesExporter.reveal_url_prefix]\n",
      "--nbformat=<Enum>\n",
      "    The nbformat version to write.\n",
      "            Use this to downgrade notebooks.\n",
      "    Choices: any of [1, 2, 3, 4]\n",
      "    Default: 4\n",
      "    Equivalent to: [--NotebookExporter.nbformat_version]\n",
      "\n",
      "Examples\n",
      "--------\n",
      "\n",
      "    The simplest way to use nbconvert is\n",
      "\n",
      "            > jupyter nbconvert mynotebook.ipynb --to html\n",
      "\n",
      "            Options include ['asciidoc', 'custom', 'html', 'latex', 'markdown', 'notebook', 'pdf', 'python', 'qtpdf', 'qtpng', 'rst', 'script', 'slides', 'webpdf'].\n",
      "\n",
      "            > jupyter nbconvert --to latex mynotebook.ipynb\n",
      "\n",
      "            Both HTML and LaTeX support multiple output templates. LaTeX includes\n",
      "            'base', 'article' and 'report'.  HTML includes 'basic', 'lab' and\n",
      "            'classic'. You can specify the flavor of the format used.\n",
      "\n",
      "            > jupyter nbconvert --to html --template lab mynotebook.ipynb\n",
      "\n",
      "            You can also pipe the output to stdout, rather than a file\n",
      "\n",
      "            > jupyter nbconvert mynotebook.ipynb --stdout\n",
      "\n",
      "            PDF is generated via latex\n",
      "\n",
      "            > jupyter nbconvert mynotebook.ipynb --to pdf\n",
      "\n",
      "            You can get (and serve) a Reveal.js-powered slideshow\n",
      "\n",
      "            > jupyter nbconvert myslides.ipynb --to slides --post serve\n",
      "\n",
      "            Multiple notebooks can be given at the command line in a couple of\n",
      "            different ways:\n",
      "\n",
      "            > jupyter nbconvert notebook*.ipynb\n",
      "            > jupyter nbconvert notebook1.ipynb notebook2.ipynb\n",
      "\n",
      "            or you can specify the notebooks list in a config file, containing::\n",
      "\n",
      "                c.NbConvertApp.notebooks = [\"my_notebook.ipynb\"]\n",
      "\n",
      "            > jupyter nbconvert --config mycfg.py\n",
      "\n",
      "To see all available configurables, use `--help-all`.\n",
      "\n"
     ]
    }
   ],
   "source": [
    "!jupyter nbconvert --to script config_template.ipynb"
   ]
  },
  {
   "cell_type": "code",
   "execution_count": 1,
   "metadata": {},
   "outputs": [],
   "source": [
    "# ! pip install gymnasium[atari] torch numpy"
   ]
  },
  {
   "cell_type": "code",
   "execution_count": 2,
   "metadata": {},
   "outputs": [],
   "source": [
    "import gymnasium as gym\n",
    "import numpy as np\n",
    "import torch\n",
    "import torch.nn as nn\n",
    "import torch.optim as optim\n",
    "import random\n",
    "from collections import deque\n",
    "import cv2\n",
    "import matplotlib.pyplot as plt\n",
    "from tqdm import tqdm"
   ]
  },
  {
   "cell_type": "code",
   "execution_count": 3,
   "metadata": {},
   "outputs": [],
   "source": [
    "device = \"cpu\"\n",
    "if torch.cuda.is_available():\n",
    "    device = \"cuda\"\n",
    "elif torch.backends.mps.is_available():\n",
    "    device = \"mps\""
   ]
  },
  {
   "cell_type": "markdown",
   "metadata": {},
   "source": [
    "## Hyperparameters\n",
    "As per the paper, we use certain hyperparameters that were tuned across various Atari games."
   ]
  },
  {
   "cell_type": "code",
   "execution_count": 4,
   "metadata": {},
   "outputs": [],
   "source": [
    "LEARNING_RATE = 0.00025  # Paper used a similar learning rate\n",
    "DISCOUNT_FACTOR = 0.99  # The γ discount factor as mentioned in the paper\n",
    "REPLAY_MEMORY_SIZE = 150_000  # Large replay buffer as described, but not too large\n",
    "BATCH_SIZE = 32  # Minibatch size for training\n",
    "TARGET_UPDATE_FREQ = 10_000  # C steps for target network update\n",
    "FRAME_SKIP = 4  # Number of frames skipped\n",
    "MIN_EPSILON = 0.1  # Minimum value of epsilon (for more exploitation)\n",
    "MAX_EPSILON = 1.0  # Starting value of epsilon (for exploration)\n",
    "MAX_STEPS = 520_000  # Total training episodes (Space Invaders)\n",
    "REPLAY_START_SIZE = 50_000  # Size of replay memory before starting training\n",
    "SAVE_FREQUENCY = 50_000  # Save model every 50k steps"
   ]
  },
  {
   "cell_type": "markdown",
   "metadata": {},
   "source": [
    "## Deep Q-Network Architecture\n",
    "Referring to the paper's architecture (3 convolutional layers, followed by fully connected layers)"
   ]
  },
  {
   "cell_type": "code",
   "execution_count": 5,
   "metadata": {},
   "outputs": [],
   "source": [
    "class DQN(nn.Module):\n",
    "    def __init__(self, action_space):\n",
    "        super(DQN, self).__init__()\n",
    "        # The first convolution layer (as per paper), input: 84x84x4 image, 32 filters of 8x8, stride 4\n",
    "        self.conv1 = nn.Conv2d(4, 32, kernel_size=8, stride=4)\n",
    "        # The second convolution layer, 64 filters of 4x4, stride 2\n",
    "        self.conv2 = nn.Conv2d(32, 64, kernel_size=4, stride=2)\n",
    "        # The third convolution layer, 64 filters of 3x3, stride 1\n",
    "        self.conv3 = nn.Conv2d(64, 64, kernel_size=3, stride=1)\n",
    "        # Fully connected layer with 512 units (as described in the paper)\n",
    "        self.fc1 = nn.Linear(3136, 512)\n",
    "        # Final fully connected layer with one output for each action\n",
    "        self.fc2 = nn.Linear(512, action_space)\n",
    "\n",
    "    def forward(self, x):\n",
    "        # Using ReLU activations as specified in the paper\n",
    "        x = torch.relu(self.conv1(x))\n",
    "        x = torch.relu(self.conv2(x))\n",
    "        x = torch.relu(self.conv3(x))\n",
    "        x = x.view(x.size(0), -1)  # Flattening\n",
    "        x = torch.relu(self.fc1(x))\n",
    "        return self.fc2(x)  # Outputs the Q-values for each action"
   ]
  },
  {
   "cell_type": "markdown",
   "metadata": {},
   "source": [
    "## Custom Wrappers\n",
    "We use custom wrappers using gymnasium's API.\n",
    "The paper describes preprocessing the input frames by converting them to grayscale, resizing, normalizing and stacking the last 4 frames to capture motion. We will use the same preprocessing steps."
   ]
  },
  {
   "cell_type": "code",
   "execution_count": 6,
   "metadata": {},
   "outputs": [],
   "source": [
    "class FrameSkip(gym.Wrapper):\n",
    "    def __init__(self, env, skip=4):\n",
    "        \"\"\"Return only every `skip`-th frame\"\"\"\n",
    "        super(FrameSkip, self).__init__(env)\n",
    "        self._skip = skip\n",
    "\n",
    "    def step(self, action):\n",
    "        \"\"\"Repeat action, sum reward, and take the last observation.\"\"\"\n",
    "        total_reward = 0.0\n",
    "        done = None\n",
    "        for _ in range(self._skip):\n",
    "            obs, reward, done, truncated, info = self.env.step(action)\n",
    "            total_reward += reward\n",
    "            if done or truncated:\n",
    "                break\n",
    "        return obs, total_reward, done, truncated, info\n",
    "\n",
    "\n",
    "class GrayScaleResize(gym.ObservationWrapper):\n",
    "    def __init__(self, env):\n",
    "        \"\"\"Convert the observations to grayscale and resize to 84x84.\"\"\"\n",
    "        super(GrayScaleResize, self).__init__(env)\n",
    "        self.observation_space = gym.spaces.Box(\n",
    "            low=0, high=255, shape=(84, 84), dtype=np.uint8\n",
    "        )\n",
    "\n",
    "    def observation(self, obs):\n",
    "        obs = cv2.cvtColor(obs, cv2.COLOR_RGB2GRAY)  # Convert to grayscale\n",
    "        obs = cv2.resize(obs, (84, 84), interpolation=cv2.INTER_AREA)  # Resize to 84x84\n",
    "        return obs\n",
    "\n",
    "\n",
    "class FrameStack(gym.Wrapper):\n",
    "    def __init__(self, env, k=4):\n",
    "        \"\"\"Stack `k` last frames.\"\"\"\n",
    "        super(FrameStack, self).__init__(env)\n",
    "        self.k = k\n",
    "        self.frames = deque([], maxlen=k)\n",
    "        shp = env.observation_space.shape\n",
    "        self.observation_space = gym.spaces.Box(\n",
    "            low=0, high=255, shape=(k, shp[0], shp[1]), dtype=np.uint8\n",
    "        )\n",
    "\n",
    "    def reset(self):\n",
    "        obs, _ = self.env.reset()\n",
    "        for _ in range(self.k):\n",
    "            self.frames.append(obs)\n",
    "        return self._get_ob()\n",
    "\n",
    "    def step(self, action):\n",
    "        obs, reward, done, truncated, info = self.env.step(action)\n",
    "        self.frames.append(obs)\n",
    "        return self._get_ob(), reward, done, truncated, info\n",
    "\n",
    "    def _get_ob(self):\n",
    "        return np.array(self.frames)\n",
    "\n",
    "\n",
    "class NormalizeObs(gym.ObservationWrapper):\n",
    "    \"\"\"Normalize observations to the range [0, 1].\"\"\"\n",
    "\n",
    "    def __init__(self, env):\n",
    "        super(NormalizeObs, self).__init__(env)\n",
    "        self.observation_space = gym.spaces.Box(\n",
    "            low=0, high=1.0, shape=env.observation_space.shape, dtype=np.float32\n",
    "        )\n",
    "\n",
    "    def observation(self, obs):\n",
    "        return np.array(obs).astype(np.float32) / 255.0"
   ]
  },
  {
   "cell_type": "markdown",
   "metadata": {},
   "source": [
    "## Replay Memory\n",
    "We implement an experience replay buffer as described in the paper to store past experiences and sample them randomly during training to break the correlation between consecutive frames."
   ]
  },
  {
   "cell_type": "code",
   "execution_count": 7,
   "metadata": {},
   "outputs": [],
   "source": [
    "class ReplayBuffer:\n",
    "    def __init__(self, size, obs_shape, action_shape):\n",
    "        self.size = size\n",
    "        self.obs_shape = obs_shape\n",
    "        self.action_shape = action_shape\n",
    "\n",
    "        self.t_obs = np.empty((size, *obs_shape), dtype=np.uint8)\n",
    "        self.t1_obs = np.empty((size, *obs_shape), dtype=np.uint8)\n",
    "        self.actions = np.empty((size, *action_shape), dtype=np.uint8)\n",
    "        self.rewards = np.empty(size, dtype=np.float16)\n",
    "        self.dones = np.empty(size, dtype=np.bool_)\n",
    "\n",
    "        self.idx = 0\n",
    "        self.current_size = 0\n",
    "\n",
    "    def append(self, t_obs, t1_obs, actions, reward, done):\n",
    "        self.t_obs[self.idx] = t_obs\n",
    "        self.t1_obs[self.idx] = t1_obs\n",
    "        self.actions[self.idx] = actions\n",
    "        self.rewards[self.idx] = reward\n",
    "        self.dones[self.idx] = done\n",
    "\n",
    "        self.current_size = min(self.current_size + 1, self.size)\n",
    "        self.idx = (self.idx + 1) % self.size\n",
    "\n",
    "    def sample(self, batch_size):\n",
    "        ids = np.random.choice(self.current_size, batch_size, replace=False)\n",
    "        batch = (self.t_obs[ids], self.t1_obs[ids], self.actions[ids],\n",
    "                 self.rewards[ids], self.dones[ids])\n",
    "\n",
    "        return tuple(torch.as_tensor(item, dtype=torch.float32).to(device) for item in batch)\n",
    "\n",
    "    def __len__(self):\n",
    "        return self.current_size\n"
   ]
  },
  {
   "cell_type": "markdown",
   "metadata": {},
   "source": [
    "## Epsilon-greedy action selection\n",
    "This function selects an action using epsilon-greedy policy as mentioned in the paper."
   ]
  },
  {
   "cell_type": "code",
   "execution_count": 8,
   "metadata": {},
   "outputs": [],
   "source": [
    "def select_action(state, policy_net, epsilon, action_space):\n",
    "    if random.random() < epsilon:  # Explore\n",
    "        return random.choice(action_space)\n",
    "    else:  # Exploit\n",
    "        with torch.no_grad():\n",
    "            state = torch.tensor(state, dtype=torch.float32).to(device).unsqueeze(0)\n",
    "            return policy_net(state).argmax(dim=1).item()"
   ]
  },
  {
   "cell_type": "markdown",
   "metadata": {},
   "source": [
    "## Target Network Update\n",
    "Target network helps stabilize learning. The paper mentions that the target network is updated every C steps."
   ]
  },
  {
   "cell_type": "code",
   "execution_count": 9,
   "metadata": {},
   "outputs": [],
   "source": [
    "def update_target(policy_net, target_net):\n",
    "    target_net.load_state_dict(policy_net.state_dict())  # Sync the weights"
   ]
  },
  {
   "cell_type": "markdown",
   "metadata": {},
   "source": [
    "## Gymnasium Environment Setup"
   ]
  },
  {
   "cell_type": "markdown",
   "metadata": {},
   "source": [
    "Here we set up the gym environment, by selecting the Breakout game. We specify RMSProp as the optimizer just like in the paper training details."
   ]
  },
  {
   "cell_type": "code",
   "execution_count": 10,
   "metadata": {},
   "outputs": [
    {
     "name": "stderr",
     "output_type": "stream",
     "text": [
      "A.L.E: Arcade Learning Environment (version 0.8.1+53f58b7)\n",
      "[Powered by Stella]\n"
     ]
    }
   ],
   "source": [
    "def make_env(env_id, render_mode=None, frame_skip=4):\n",
    "    \"\"\"Create environment with preprocessing wrappers.\"\"\"\n",
    "    env = gym.make(env_id, render_mode=render_mode)\n",
    "    env = FrameSkip(env, skip=frame_skip)  # Frame skipping (skip 4 frames)\n",
    "    env = GrayScaleResize(env)  # Convert frames to grayscale and resize to 84x84\n",
    "    env = NormalizeObs(env)  # Normalize pixel values to [0, 1]\n",
    "    env = FrameStack(env, k=4)  # Stack the last 4 frames\n",
    "    return env\n",
    "\n",
    "\n",
    "env = make_env(\"ALE/Breakout-v5\")\n",
    "action_space = [i for i in range(env.action_space.n)]\n",
    "\n",
    "# Initialize policy and target networks\n",
    "policy_net = DQN(len(action_space)).to(device)\n",
    "target_net = DQN(len(action_space)).to(device)\n",
    "update_target(policy_net, target_net)  # First sync\n",
    "\n",
    "optimizer = optim.RMSprop(policy_net.parameters(), lr=LEARNING_RATE)\n",
    "replay_buffer = ReplayBuffer(REPLAY_MEMORY_SIZE, (4, 84, 84), (1,))\n",
    "\n",
    "epsilon = MAX_EPSILON  # Starting value of epsilon"
   ]
  },
  {
   "cell_type": "markdown",
   "metadata": {},
   "source": [
    "## Training Loop\n",
    "Here, we follow the methodology from the paper, by putting all the above components together to train the DQN agent on the Atari game."
   ]
  },
  {
   "cell_type": "code",
   "execution_count": 11,
   "metadata": {},
   "outputs": [
    {
     "name": "stderr",
     "output_type": "stream",
     "text": [
      "R: 2.0, ε: 0.95914, ReplayMemSize: 150000: : 520027it [2:26:00, 59.36it/s]                              \n"
     ]
    }
   ],
   "source": [
    "total_steps = 0\n",
    "\n",
    "plot_infos = {\"total_steps\": [], \"total_reward\": [], \"epsilon\": []}\n",
    "\n",
    "progress_bar = tqdm(range(MAX_STEPS), desc=\"Training Progress\")\n",
    "\n",
    "while total_steps < MAX_STEPS:\n",
    "    state = env.reset()  # Reset environment to initial state\n",
    "\n",
    "    total_reward = 0\n",
    "\n",
    "    while True:\n",
    "        action = select_action(state, policy_net, epsilon, action_space)\n",
    "\n",
    "        # Step the environment\n",
    "        next_state, reward, done, truncated, _ = env.step(action)\n",
    "\n",
    "        # Store the transition in replay memory\n",
    "        replay_buffer.append(state, next_state, action, reward, done)\n",
    "\n",
    "        state = next_state\n",
    "        total_reward += reward\n",
    "        total_steps += 1\n",
    "\n",
    "        # Only start training when replay memory has enough samples\n",
    "        if len(replay_buffer) >= REPLAY_START_SIZE:\n",
    "            # Sample minibatch from replay buffer\n",
    "            batch = replay_buffer.sample(BATCH_SIZE)\n",
    "\n",
    "            batch_state, batch_next_state, batch_action, batch_reward, batch_done = batch\n",
    "            # Compute Q targets\n",
    "            q_values = policy_net(batch_state).gather(1, batch_action.long())\n",
    "            next_q_values = target_net(batch_next_state).max(1)[0].detach()\n",
    "            target_q_values = batch_reward + (\n",
    "                DISCOUNT_FACTOR * next_q_values * torch.logical_not(batch_done)\n",
    "            )\n",
    "\n",
    "            # Loss is the squared error as mentioned in the paper\n",
    "            loss = nn.MSELoss()(q_values.squeeze(), target_q_values)\n",
    "\n",
    "            # Backpropagate and update the network\n",
    "            optimizer.zero_grad()\n",
    "            loss.backward()\n",
    "            optimizer.step()\n",
    "\n",
    "            # Update target network periodically\n",
    "            if total_steps % TARGET_UPDATE_FREQ == 0:\n",
    "                update_target(policy_net, target_net)\n",
    "\n",
    "            # Save checkpoints every SAVE_FREQUENCY steps\n",
    "            if total_steps % SAVE_FREQUENCY == 0:\n",
    "                torch.save(\n",
    "                    policy_net.state_dict(), f\"checkpoints/checkpoint_{total_steps}.pth\"\n",
    "                )\n",
    "\n",
    "        if done or truncated:\n",
    "            break\n",
    "\n",
    "    # Append the total reward for tracking\n",
    "    plot_infos[\"total_reward\"].append(total_reward)\n",
    "    # Decay epsilon for exploration-exploitation tradeoff\n",
    "    epsilon = max(MIN_EPSILON, ((0.1 - 1.0)  / (0.10  * MAX_STEPS)) * total_steps + 1.0)\n",
    "    plot_infos[\"epsilon\"].append(epsilon)\n",
    "    plot_infos[\"total_steps\"].append(total_steps)\n",
    "\n",
    "    progress_bar.set_description(\n",
    "        f\"R: {plot_infos['total_reward'][-1]}, ε: {plot_infos['epsilon'][-1]:.5f}, ReplayMemSize: {len(replay_buffer)}\"\n",
    "        )\n",
    "    progress_bar.update(plot_infos[\"total_steps\"][-1] - progress_bar.n)\n",
    "\n",
    "progress_bar.close()\n",
    "env.close()"
   ]
  },
  {
   "cell_type": "markdown",
   "metadata": {},
   "source": [
    "## Training Progress"
   ]
  },
  {
   "cell_type": "markdown",
   "metadata": {},
   "source": [
    "Here is the training progress of the DQN agent on the Breakout game."
   ]
  },
  {
   "cell_type": "code",
   "execution_count": 12,
   "metadata": {},
   "outputs": [
    {
     "data": {
      "image/png": "[encoded data removed]",
      "text/plain": [
       "<Figure size 1200x500 with 2 Axes>"
      ]
     },
     "metadata": {},
     "output_type": "display_data"
    },
    {
     "ename": "",
     "evalue": "",
     "output_type": "error",
     "traceback": [
      "\u001b[1;31mThe Kernel crashed while executing code in the current cell or a previous cell. \n",
      "\u001b[1;31mPlease review the code in the cell(s) to identify a possible cause of the failure. \n",
      "\u001b[1;31mClick <a href='https://aka.ms/vscodeJupyterKernelCrash'>here</a> for more info. \n",
      "\u001b[1;31mView Jupyter <a href='command:jupyter.viewOutput'>log</a> for further details."
     ]
    }
   ],
   "source": [
    "fig, ax1 = plt.subplots(figsize=(12, 5))\n",
    "\n",
    "# Create a secondary y-axis for total rewards\n",
    "ax1.plot(plot_infos['total_steps'], plot_infos['total_reward'], label='Total Reward', color='green')\n",
    "ax1.set_ylabel('Total Reward', color='green')\n",
    "ax1.tick_params(axis='y', labelcolor='green')\n",
    "\n",
    "# Create another secondary y-axis for epsilon values\n",
    "ax2 = ax1.twinx()\n",
    "ax2.spines['right'].set_position(('outward', 60))\n",
    "ax2.plot(plot_infos['total_steps'], plot_infos['epsilon'], label='Epsilon', color='red')\n",
    "ax2.set_ylabel('Epsilon', color='red')\n",
    "ax2.tick_params(axis='y', labelcolor='red')\n",
    "\n",
    "fig.tight_layout()\n",
    "plt.title('Training Progress')\n",
    "plt.show()"
   ]
  },
  {
   "cell_type": "markdown",
   "metadata": {},
   "source": [
    "## Result\n",
    "Here is the training playing each 50000 steps."
   ]
  },
  {
   "cell_type": "code",
   "execution_count": 11,
   "metadata": {},
   "outputs": [
    {
     "name": "stdout",
     "output_type": "stream",
     "text": [
      "Loading checkpoint: checkpoints/checkpoint_500000.pth\n"
     ]
    },
    {
     "name": "stderr",
     "output_type": "stream",
     "text": [
      "/var/folders/mv/3fqdyl697kg4mqs3tkmd7gs80000gn/T/ipykernel_32432/539030423.py:10: FutureWarning: You are using `torch.load` with `weights_only=False` (the current default value), which uses the default pickle module implicitly. It is possible to construct malicious pickle data which will execute arbitrary code during unpickling (See https://github.com/pytorch/pytorch/blob/main/SECURITY.md#untrusted-models for more details). In a future release, the default value for `weights_only` will be flipped to `True`. This limits the functions that could be executed during unpickling. Arbitrary objects will no longer be allowed to be loaded via this mode unless they are explicitly allowlisted by the user via `torch.serialization.add_safe_globals`. We recommend you start setting `weights_only=True` for any use case where you don't have full control of the loaded file. Please open an issue on GitHub for any issues related to this experimental feature.\n",
      "  model.load_state_dict(torch.load(checkpoint_file))\n",
      "2024-09-30 21:11:27.505 python[32432:969478] +[IMKClient subclass]: chose IMKClient_Legacy\n",
      "2024-09-30 21:11:27.505 python[32432:969478] +[IMKInputSession subclass]: chose IMKInputSession_Legacy\n"
     ]
    },
    {
     "name": "stdout",
     "output_type": "stream",
     "text": [
      "Checkpoint checkpoints/checkpoint_500000.pth: Total Reward = 0.0\n"
     ]
    }
   ],
   "source": [
    "import glob\n",
    "import torch\n",
    "import os\n",
    "\n",
    "# Path to checkpoints directory\n",
    "CHECKPOINT_DIR = \"checkpoints\"\n",
    "\n",
    "# Function to load model weights from checkpoint file\n",
    "def load_checkpoint(model, checkpoint_file):\n",
    "    model.load_state_dict(torch.load(checkpoint_file))\n",
    "    model.eval()  # Set the model to evaluation mode (important for inference)\n",
    "\n",
    "# Function to play the game using the loaded model\n",
    "def play_episode(env, model):\n",
    "    obs = env.reset()\n",
    "    state = torch.tensor(obs, dtype=torch.float32).unsqueeze(0).to(device)  # Initial state, [1, 4, 84, 84]\n",
    "    total_reward = 0\n",
    "\n",
    "    done = False\n",
    "    while not done:\n",
    "        with torch.no_grad():\n",
    "            action = model(state).argmax(dim=1).item()  # Select action with highest Q-value\n",
    "        next_state, reward, done, truncated, _ = env.step(action)\n",
    "        next_state = torch.tensor(next_state, dtype=torch.float32).unsqueeze(0).to(device)\n",
    "        state = next_state\n",
    "        total_reward += reward\n",
    "        if done or truncated:\n",
    "            break\n",
    "\n",
    "    return total_reward\n",
    "\n",
    "# Iterate over each checkpoint file and run the evaluation\n",
    "def evaluate_checkpoints(checkpoint_dir):\n",
    "    # Glob all checkpoint files in the directory\n",
    "    checkpoint_files = glob.glob(os.path.join(checkpoint_dir, \"*.pth\"))\n",
    "    \n",
    "    # Sort the checkpoint files if needed\n",
    "    checkpoint_files.sort()\n",
    "\n",
    "    # Create the environment\n",
    "    env = make_env(\"ALE/Breakout-v5\", render_mode=\"human\", frame_skip=1)\n",
    "\n",
    "    # Initialize DQN model (same as the one used during training)\n",
    "    action_space = env.action_space.n\n",
    "    model = DQN(action_space).to(device)  # Create the DQN model\n",
    "\n",
    "    for checkpoint in checkpoint_files:\n",
    "        print(f\"Loading checkpoint: {checkpoint}\")\n",
    "        # Load the model weights from the checkpoint file\n",
    "        load_checkpoint(model, checkpoint)\n",
    "\n",
    "        # Play one episode with the loaded model and print the total reward\n",
    "        total_reward = play_episode(env, model)\n",
    "        print(f\"Checkpoint {checkpoint}: Total Reward = {total_reward}\")\n",
    "\n",
    "    env.close()\n",
    "\n",
    "# Call the function to evaluate the checkpoints\n",
    "evaluate_checkpoints(CHECKPOINT_DIR)"
   ]
  }
 ],
 "metadata": {
  "kernelspec": {
   "display_name": "research-rl",
   "language": "python",
   "name": "python3"
  },
  "language_info": {
   "codemirror_mode": {
    "name": "ipython",
    "version": 3
   },
   "file_extension": ".py",
   "mimetype": "text/x-python",
   "name": "python",
   "nbconvert_exporter": "python",
   "pygments_lexer": "ipython3",
   "version": "3.11.9"
  }
 },
 "nbformat": 4,
 "nbformat_minor": 2
}
