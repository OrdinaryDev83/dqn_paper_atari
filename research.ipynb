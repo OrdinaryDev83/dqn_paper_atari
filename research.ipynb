{
 "cells": [
  {
   "cell_type": "markdown",
   "metadata": {},
   "source": [
    "# DQN Atari Paper Implementation"
   ]
  },
  {
   "cell_type": "code",
   "execution_count": 38,
   "metadata": {},
   "outputs": [],
   "source": [
    "# ! pip install gymnasium[atari] torch numpy"
   ]
  },
  {
   "cell_type": "code",
   "execution_count": 39,
   "metadata": {},
   "outputs": [],
   "source": [
    "import gymnasium as gym\n",
    "import numpy as np\n",
    "import torch\n",
    "import torch.nn as nn\n",
    "import torch.optim as optim\n",
    "import random\n",
    "from collections import deque\n",
    "import cv2\n",
    "import matplotlib.pyplot as plt\n",
    "from tqdm import tqdm"
   ]
  },
  {
   "cell_type": "markdown",
   "metadata": {},
   "source": [
    "## Hyperparameters\n",
    "As per the paper, we use certain hyperparameters that were tuned across various Atari games."
   ]
  },
  {
   "cell_type": "code",
   "execution_count": 40,
   "metadata": {},
   "outputs": [],
   "source": [
    "LEARNING_RATE = 0.00025  # Paper used a similar learning rate\n",
    "DISCOUNT_FACTOR = 0.99  # The γ discount factor as mentioned in the paper\n",
    "REPLAY_MEMORY_SIZE = 1_000_000  # Large replay buffer as described\n",
    "BATCH_SIZE = 32  # Minibatch size for training\n",
    "TARGET_UPDATE_FREQ = 10_000  # C steps for target network update\n",
    "FRAME_SKIP = 4  # Number of frames skipped\n",
    "EPSILON_DECAY = 0.999995  # Epsilon decay for exploration-exploitation tradeoff\n",
    "MIN_EPSILON = 0.1  # Minimum value of epsilon (for more exploitation)\n",
    "MAX_EPSILON = 1.0  # Starting value of epsilon (for exploration)\n",
    "MAX_STEPS = 520_000  # Total training episodes (Space Invaders)\n",
    "REPLAY_START_SIZE = 50_000  # Size of replay memory before starting training\n",
    "SAVE_FREQUENCY = 50_000  # Save model every 50k steps"
   ]
  },
  {
   "cell_type": "markdown",
   "metadata": {},
   "source": [
    "## Deep Q-Network Architecture\n",
    "Referring to the paper's architecture (3 convolutional layers, followed by fully connected layers)"
   ]
  },
  {
   "cell_type": "code",
   "execution_count": 41,
   "metadata": {},
   "outputs": [],
   "source": [
    "class DQN(nn.Module):\n",
    "    def __init__(self, action_space):\n",
    "        super(DQN, self).__init__()\n",
    "        # The first convolution layer (as per paper), input: 84x84x4 image, 32 filters of 8x8, stride 4\n",
    "        self.conv1 = nn.Conv2d(4, 32, kernel_size=8, stride=4)\n",
    "        # The second convolution layer, 64 filters of 4x4, stride 2\n",
    "        self.conv2 = nn.Conv2d(32, 64, kernel_size=4, stride=2)\n",
    "        # The third convolution layer, 64 filters of 3x3, stride 1\n",
    "        self.conv3 = nn.Conv2d(64, 64, kernel_size=3, stride=1)\n",
    "        # Fully connected layer with 512 units (as described in the paper)\n",
    "        self.fc1 = nn.Linear(3136, 512)\n",
    "        # Final fully connected layer with one output for each action\n",
    "        self.fc2 = nn.Linear(512, action_space)\n",
    "\n",
    "    def forward(self, x):\n",
    "        # Using ReLU activations as specified in the paper\n",
    "        x = torch.relu(self.conv1(x))\n",
    "        x = torch.relu(self.conv2(x))\n",
    "        x = torch.relu(self.conv3(x))\n",
    "        x = x.view(x.size(0), -1)  # Flattening\n",
    "        x = torch.relu(self.fc1(x))\n",
    "        return self.fc2(x)  # Outputs the Q-values for each action"
   ]
  },
  {
   "cell_type": "markdown",
   "metadata": {},
   "source": [
    "## Custom Wrappers\n",
    "We use custom wrappers using gymnasium's API.\n",
    "The paper describes preprocessing the input frames by converting them to grayscale, resizing, normalizing and stacking the last 4 frames to capture motion. We will use the same preprocessing steps."
   ]
  },
  {
   "cell_type": "code",
   "execution_count": 42,
   "metadata": {},
   "outputs": [],
   "source": [
    "class FrameSkip(gym.Wrapper):\n",
    "    def __init__(self, env, skip=4):\n",
    "        \"\"\"Return only every `skip`-th frame\"\"\"\n",
    "        super(FrameSkip, self).__init__(env)\n",
    "        self._skip = skip\n",
    "\n",
    "    def step(self, action):\n",
    "        \"\"\"Repeat action, sum reward, and take the last observation.\"\"\"\n",
    "        total_reward = 0.0\n",
    "        done = None\n",
    "        for _ in range(self._skip):\n",
    "            obs, reward, done, truncated, info = self.env.step(action)\n",
    "            total_reward += reward\n",
    "            if done or truncated:\n",
    "                break\n",
    "        return obs, total_reward, done, truncated, info\n",
    "\n",
    "\n",
    "class GrayScaleResize(gym.ObservationWrapper):\n",
    "    def __init__(self, env):\n",
    "        \"\"\"Convert the observations to grayscale and resize to 84x84.\"\"\"\n",
    "        super(GrayScaleResize, self).__init__(env)\n",
    "        self.observation_space = gym.spaces.Box(\n",
    "            low=0, high=255, shape=(84, 84), dtype=np.uint8\n",
    "        )\n",
    "\n",
    "    def observation(self, obs):\n",
    "        obs = cv2.cvtColor(obs, cv2.COLOR_RGB2GRAY)  # Convert to grayscale\n",
    "        obs = cv2.resize(obs, (84, 84), interpolation=cv2.INTER_AREA)  # Resize to 84x84\n",
    "        return obs\n",
    "\n",
    "\n",
    "class FrameStack(gym.Wrapper):\n",
    "    def __init__(self, env, k=4):\n",
    "        \"\"\"Stack `k` last frames.\"\"\"\n",
    "        super(FrameStack, self).__init__(env)\n",
    "        self.k = k\n",
    "        self.frames = deque([], maxlen=k)\n",
    "        shp = env.observation_space.shape\n",
    "        self.observation_space = gym.spaces.Box(\n",
    "            low=0, high=255, shape=(k, shp[0], shp[1]), dtype=np.uint8\n",
    "        )\n",
    "\n",
    "    def reset(self):\n",
    "        obs, _ = self.env.reset()\n",
    "        for _ in range(self.k):\n",
    "            self.frames.append(obs)\n",
    "        return self._get_ob()\n",
    "\n",
    "    def step(self, action):\n",
    "        obs, reward, done, truncated, info = self.env.step(action)\n",
    "        self.frames.append(obs)\n",
    "        return self._get_ob(), reward, done, truncated, info\n",
    "\n",
    "    def _get_ob(self):\n",
    "        return np.array(self.frames)\n",
    "\n",
    "\n",
    "class NormalizeObs(gym.ObservationWrapper):\n",
    "    \"\"\"Normalize observations to the range [0, 1].\"\"\"\n",
    "\n",
    "    def __init__(self, env):\n",
    "        super(NormalizeObs, self).__init__(env)\n",
    "        self.observation_space = gym.spaces.Box(\n",
    "            low=0, high=1.0, shape=env.observation_space.shape, dtype=np.float32\n",
    "        )\n",
    "\n",
    "    def observation(self, obs):\n",
    "        return np.array(obs).astype(np.float32) / 255.0"
   ]
  },
  {
   "cell_type": "markdown",
   "metadata": {},
   "source": [
    "## Replay Memory\n",
    "We implement an experience replay buffer as described in the paper to store past experiences and sample them randomly during training to break the correlation between consecutive frames."
   ]
  },
  {
   "cell_type": "code",
   "execution_count": 43,
   "metadata": {},
   "outputs": [],
   "source": [
    "class ReplayBuffer:\n",
    "    def __init__(self, size):\n",
    "        self.buffer = deque(maxlen=size)  # Circular buffer with max size\n",
    "\n",
    "    def add(self, experience):\n",
    "        self.buffer.append(experience)  # Add new experience\n",
    "\n",
    "    def sample(self, batch_size):\n",
    "        indices = np.random.choice(len(self.buffer), batch_size, replace=False)\n",
    "        return [self.buffer[idx] for idx in indices]  # Sample random minibatch\n",
    "\n",
    "    def __len__(self):\n",
    "        return len(self.buffer)"
   ]
  },
  {
   "cell_type": "markdown",
   "metadata": {},
   "source": [
    "## Epsilon-greedy action selection\n",
    "This function selects an action using epsilon-greedy policy as mentioned in the paper."
   ]
  },
  {
   "cell_type": "code",
   "execution_count": 44,
   "metadata": {},
   "outputs": [],
   "source": [
    "def select_action(state, policy_net, epsilon, action_space):\n",
    "    if random.random() < epsilon:  # Explore\n",
    "        return random.choice(action_space)\n",
    "    else:  # Exploit\n",
    "        with torch.no_grad():\n",
    "            return policy_net(state).argmax(dim=1).item()"
   ]
  },
  {
   "cell_type": "markdown",
   "metadata": {},
   "source": [
    "## Target Network Update\n",
    "Target network helps stabilize learning. The paper mentions that the target network is updated every C steps."
   ]
  },
  {
   "cell_type": "code",
   "execution_count": 45,
   "metadata": {},
   "outputs": [],
   "source": [
    "def update_target(policy_net, target_net):\n",
    "    target_net.load_state_dict(policy_net.state_dict())  # Sync the weights"
   ]
  },
  {
   "cell_type": "markdown",
   "metadata": {},
   "source": [
    "## Gymnasium Environment Setup"
   ]
  },
  {
   "cell_type": "markdown",
   "metadata": {},
   "source": [
    "Here we set up the gym environment, by selecting the Breakout game. We specify RMSProp as the optimizer just like in the paper training details."
   ]
  },
  {
   "cell_type": "code",
   "execution_count": 46,
   "metadata": {},
   "outputs": [],
   "source": [
    "device = \"cpu\"\n",
    "if torch.cuda.is_available():\n",
    "    device = \"cuda\"\n",
    "elif torch.backends.mps.is_available():\n",
    "    device = \"mps\""
   ]
  },
  {
   "cell_type": "code",
   "execution_count": 47,
   "metadata": {},
   "outputs": [],
   "source": [
    "def make_env(env_id, render_mode=None, frame_skip=4):\n",
    "    \"\"\"Create environment with preprocessing wrappers.\"\"\"\n",
    "    env = gym.make(env_id, render_mode=render_mode)\n",
    "    env = FrameSkip(env, skip=frame_skip)  # Frame skipping (skip 4 frames)\n",
    "    env = GrayScaleResize(env)  # Convert frames to grayscale and resize to 84x84\n",
    "    env = NormalizeObs(env)  # Normalize pixel values to [0, 1]\n",
    "    env = FrameStack(env, k=4)  # Stack the last 4 frames\n",
    "    return env\n",
    "\n",
    "\n",
    "env = make_env(\"ALE/Breakout-v5\")\n",
    "action_space = [i for i in range(env.action_space.n)]\n",
    "\n",
    "# Initialize policy and target networks\n",
    "policy_net = DQN(len(action_space)).to(device)\n",
    "target_net = DQN(len(action_space)).to(device)\n",
    "update_target(policy_net, target_net)  # First sync\n",
    "\n",
    "optimizer = optim.RMSprop(policy_net.parameters(), lr=LEARNING_RATE)\n",
    "replay_buffer = ReplayBuffer(REPLAY_MEMORY_SIZE)\n",
    "\n",
    "epsilon = MAX_EPSILON  # Starting value of epsilon"
   ]
  },
  {
   "cell_type": "markdown",
   "metadata": {},
   "source": [
    "## Training Loop\n",
    "Here, we follow the methodology from the paper, by putting all the above components together to train the DQN agent on the Atari game."
   ]
  },
  {
   "cell_type": "code",
   "execution_count": 48,
   "metadata": {},
   "outputs": [],
   "source": [
    "def batch_to_tensor(batch):\n",
    "    batch_state, batch_action, batch_reward, batch_next_state, batch_done = zip(*batch)\n",
    "\n",
    "    batch_state = torch.cat(batch_state)\n",
    "    batch_action = torch.tensor(batch_action).unsqueeze(1).to(device)\n",
    "    batch_reward = torch.tensor(batch_reward).to(device)\n",
    "    batch_next_state = torch.cat(batch_next_state)\n",
    "    batch_done = torch.tensor(batch_done).to(device)\n",
    "\n",
    "    return batch_state, batch_action, batch_reward, batch_next_state, batch_done"
   ]
  },
  {
   "cell_type": "code",
   "execution_count": 37,
   "metadata": {},
   "outputs": [
    {
     "name": "stderr",
     "output_type": "stream",
     "text": [
      "R: 3.0, ε: 0.99996:   0%|          | 578/520000 [00:00<11:59, 721.80it/s]"
     ]
    },
    {
     "ename": "KeyboardInterrupt",
     "evalue": "",
     "output_type": "error",
     "traceback": [
      "\u001b[0;31m---------------------------------------------------------------------------\u001b[0m",
      "\u001b[0;31mKeyboardInterrupt\u001b[0m                         Traceback (most recent call last)",
      "Cell \u001b[0;32mIn[37], line 19\u001b[0m\n\u001b[1;32m     16\u001b[0m action \u001b[38;5;241m=\u001b[39m select_action(state, policy_net, epsilon, action_space)\n\u001b[1;32m     18\u001b[0m \u001b[38;5;66;03m# Step the environment\u001b[39;00m\n\u001b[0;32m---> 19\u001b[0m next_state, reward, done, truncated, _ \u001b[38;5;241m=\u001b[39m \u001b[43menv\u001b[49m\u001b[38;5;241;43m.\u001b[39;49m\u001b[43mstep\u001b[49m\u001b[43m(\u001b[49m\u001b[43maction\u001b[49m\u001b[43m)\u001b[49m\n\u001b[1;32m     20\u001b[0m next_state \u001b[38;5;241m=\u001b[39m (\n\u001b[1;32m     21\u001b[0m     torch\u001b[38;5;241m.\u001b[39mtensor(next_state, dtype\u001b[38;5;241m=\u001b[39mtorch\u001b[38;5;241m.\u001b[39mfloat32)\u001b[38;5;241m.\u001b[39munsqueeze(\u001b[38;5;241m0\u001b[39m)\u001b[38;5;241m.\u001b[39mto(device)\n\u001b[1;32m     22\u001b[0m )\n\u001b[1;32m     24\u001b[0m \u001b[38;5;66;03m# Store the transition in replay memory\u001b[39;00m\n",
      "Cell \u001b[0;32mIn[30], line 51\u001b[0m, in \u001b[0;36mFrameStack.step\u001b[0;34m(self, action)\u001b[0m\n\u001b[1;32m     50\u001b[0m \u001b[38;5;28;01mdef\u001b[39;00m \u001b[38;5;21mstep\u001b[39m(\u001b[38;5;28mself\u001b[39m, action):\n\u001b[0;32m---> 51\u001b[0m     obs, reward, done, truncated, info \u001b[38;5;241m=\u001b[39m \u001b[38;5;28;43mself\u001b[39;49m\u001b[38;5;241;43m.\u001b[39;49m\u001b[43menv\u001b[49m\u001b[38;5;241;43m.\u001b[39;49m\u001b[43mstep\u001b[49m\u001b[43m(\u001b[49m\u001b[43maction\u001b[49m\u001b[43m)\u001b[49m\n\u001b[1;32m     52\u001b[0m     \u001b[38;5;28mself\u001b[39m\u001b[38;5;241m.\u001b[39mframes\u001b[38;5;241m.\u001b[39mappend(obs)\n\u001b[1;32m     53\u001b[0m     \u001b[38;5;28;01mreturn\u001b[39;00m \u001b[38;5;28mself\u001b[39m\u001b[38;5;241m.\u001b[39m_get_ob(), reward, done, truncated, info\n",
      "File \u001b[0;32m/opt/anaconda3/envs/research-rl/lib/python3.11/site-packages/gymnasium/core.py:522\u001b[0m, in \u001b[0;36mObservationWrapper.step\u001b[0;34m(self, action)\u001b[0m\n\u001b[1;32m    518\u001b[0m \u001b[38;5;28;01mdef\u001b[39;00m \u001b[38;5;21mstep\u001b[39m(\n\u001b[1;32m    519\u001b[0m     \u001b[38;5;28mself\u001b[39m, action: ActType\n\u001b[1;32m    520\u001b[0m ) \u001b[38;5;241m-\u001b[39m\u001b[38;5;241m>\u001b[39m \u001b[38;5;28mtuple\u001b[39m[WrapperObsType, SupportsFloat, \u001b[38;5;28mbool\u001b[39m, \u001b[38;5;28mbool\u001b[39m, \u001b[38;5;28mdict\u001b[39m[\u001b[38;5;28mstr\u001b[39m, Any]]:\n\u001b[1;32m    521\u001b[0m \u001b[38;5;250m    \u001b[39m\u001b[38;5;124;03m\"\"\"Modifies the :attr:`env` after calling :meth:`step` using :meth:`self.observation` on the returned observations.\"\"\"\u001b[39;00m\n\u001b[0;32m--> 522\u001b[0m     observation, reward, terminated, truncated, info \u001b[38;5;241m=\u001b[39m \u001b[38;5;28;43mself\u001b[39;49m\u001b[38;5;241;43m.\u001b[39;49m\u001b[43menv\u001b[49m\u001b[38;5;241;43m.\u001b[39;49m\u001b[43mstep\u001b[49m\u001b[43m(\u001b[49m\u001b[43maction\u001b[49m\u001b[43m)\u001b[49m\n\u001b[1;32m    523\u001b[0m     \u001b[38;5;28;01mreturn\u001b[39;00m \u001b[38;5;28mself\u001b[39m\u001b[38;5;241m.\u001b[39mobservation(observation), reward, terminated, truncated, info\n",
      "File \u001b[0;32m/opt/anaconda3/envs/research-rl/lib/python3.11/site-packages/gymnasium/core.py:522\u001b[0m, in \u001b[0;36mObservationWrapper.step\u001b[0;34m(self, action)\u001b[0m\n\u001b[1;32m    518\u001b[0m \u001b[38;5;28;01mdef\u001b[39;00m \u001b[38;5;21mstep\u001b[39m(\n\u001b[1;32m    519\u001b[0m     \u001b[38;5;28mself\u001b[39m, action: ActType\n\u001b[1;32m    520\u001b[0m ) \u001b[38;5;241m-\u001b[39m\u001b[38;5;241m>\u001b[39m \u001b[38;5;28mtuple\u001b[39m[WrapperObsType, SupportsFloat, \u001b[38;5;28mbool\u001b[39m, \u001b[38;5;28mbool\u001b[39m, \u001b[38;5;28mdict\u001b[39m[\u001b[38;5;28mstr\u001b[39m, Any]]:\n\u001b[1;32m    521\u001b[0m \u001b[38;5;250m    \u001b[39m\u001b[38;5;124;03m\"\"\"Modifies the :attr:`env` after calling :meth:`step` using :meth:`self.observation` on the returned observations.\"\"\"\u001b[39;00m\n\u001b[0;32m--> 522\u001b[0m     observation, reward, terminated, truncated, info \u001b[38;5;241m=\u001b[39m \u001b[38;5;28;43mself\u001b[39;49m\u001b[38;5;241;43m.\u001b[39;49m\u001b[43menv\u001b[49m\u001b[38;5;241;43m.\u001b[39;49m\u001b[43mstep\u001b[49m\u001b[43m(\u001b[49m\u001b[43maction\u001b[49m\u001b[43m)\u001b[49m\n\u001b[1;32m    523\u001b[0m     \u001b[38;5;28;01mreturn\u001b[39;00m \u001b[38;5;28mself\u001b[39m\u001b[38;5;241m.\u001b[39mobservation(observation), reward, terminated, truncated, info\n",
      "Cell \u001b[0;32mIn[30], line 12\u001b[0m, in \u001b[0;36mFrameSkip.step\u001b[0;34m(self, action)\u001b[0m\n\u001b[1;32m     10\u001b[0m done \u001b[38;5;241m=\u001b[39m \u001b[38;5;28;01mNone\u001b[39;00m\n\u001b[1;32m     11\u001b[0m \u001b[38;5;28;01mfor\u001b[39;00m _ \u001b[38;5;129;01min\u001b[39;00m \u001b[38;5;28mrange\u001b[39m(\u001b[38;5;28mself\u001b[39m\u001b[38;5;241m.\u001b[39m_skip):\n\u001b[0;32m---> 12\u001b[0m     obs, reward, done, truncated, info \u001b[38;5;241m=\u001b[39m \u001b[38;5;28;43mself\u001b[39;49m\u001b[38;5;241;43m.\u001b[39;49m\u001b[43menv\u001b[49m\u001b[38;5;241;43m.\u001b[39;49m\u001b[43mstep\u001b[49m\u001b[43m(\u001b[49m\u001b[43maction\u001b[49m\u001b[43m)\u001b[49m\n\u001b[1;32m     13\u001b[0m     total_reward \u001b[38;5;241m+\u001b[39m\u001b[38;5;241m=\u001b[39m reward\n\u001b[1;32m     14\u001b[0m     \u001b[38;5;28;01mif\u001b[39;00m done \u001b[38;5;129;01mor\u001b[39;00m truncated:\n",
      "File \u001b[0;32m/opt/anaconda3/envs/research-rl/lib/python3.11/site-packages/gymnasium/wrappers/order_enforcing.py:56\u001b[0m, in \u001b[0;36mOrderEnforcing.step\u001b[0;34m(self, action)\u001b[0m\n\u001b[1;32m     54\u001b[0m \u001b[38;5;28;01mif\u001b[39;00m \u001b[38;5;129;01mnot\u001b[39;00m \u001b[38;5;28mself\u001b[39m\u001b[38;5;241m.\u001b[39m_has_reset:\n\u001b[1;32m     55\u001b[0m     \u001b[38;5;28;01mraise\u001b[39;00m ResetNeeded(\u001b[38;5;124m\"\u001b[39m\u001b[38;5;124mCannot call env.step() before calling env.reset()\u001b[39m\u001b[38;5;124m\"\u001b[39m)\n\u001b[0;32m---> 56\u001b[0m \u001b[38;5;28;01mreturn\u001b[39;00m \u001b[38;5;28;43mself\u001b[39;49m\u001b[38;5;241;43m.\u001b[39;49m\u001b[43menv\u001b[49m\u001b[38;5;241;43m.\u001b[39;49m\u001b[43mstep\u001b[49m\u001b[43m(\u001b[49m\u001b[43maction\u001b[49m\u001b[43m)\u001b[49m\n",
      "File \u001b[0;32m/opt/anaconda3/envs/research-rl/lib/python3.11/site-packages/gymnasium/wrappers/env_checker.py:51\u001b[0m, in \u001b[0;36mPassiveEnvChecker.step\u001b[0;34m(self, action)\u001b[0m\n\u001b[1;32m     49\u001b[0m     \u001b[38;5;28;01mreturn\u001b[39;00m env_step_passive_checker(\u001b[38;5;28mself\u001b[39m\u001b[38;5;241m.\u001b[39menv, action)\n\u001b[1;32m     50\u001b[0m \u001b[38;5;28;01melse\u001b[39;00m:\n\u001b[0;32m---> 51\u001b[0m     \u001b[38;5;28;01mreturn\u001b[39;00m \u001b[38;5;28;43mself\u001b[39;49m\u001b[38;5;241;43m.\u001b[39;49m\u001b[43menv\u001b[49m\u001b[38;5;241;43m.\u001b[39;49m\u001b[43mstep\u001b[49m\u001b[43m(\u001b[49m\u001b[43maction\u001b[49m\u001b[43m)\u001b[49m\n",
      "File \u001b[0;32m/opt/anaconda3/envs/research-rl/lib/python3.11/site-packages/shimmy/atari_env.py:294\u001b[0m, in \u001b[0;36mAtariEnv.step\u001b[0;34m(self, action_ind)\u001b[0m\n\u001b[1;32m    292\u001b[0m reward \u001b[38;5;241m=\u001b[39m \u001b[38;5;241m0.0\u001b[39m\n\u001b[1;32m    293\u001b[0m \u001b[38;5;28;01mfor\u001b[39;00m _ \u001b[38;5;129;01min\u001b[39;00m \u001b[38;5;28mrange\u001b[39m(frameskip):\n\u001b[0;32m--> 294\u001b[0m     reward \u001b[38;5;241m+\u001b[39m\u001b[38;5;241m=\u001b[39m \u001b[38;5;28;43mself\u001b[39;49m\u001b[38;5;241;43m.\u001b[39;49m\u001b[43male\u001b[49m\u001b[38;5;241;43m.\u001b[39;49m\u001b[43mact\u001b[49m\u001b[43m(\u001b[49m\u001b[43maction\u001b[49m\u001b[43m)\u001b[49m\n\u001b[1;32m    295\u001b[0m is_terminal \u001b[38;5;241m=\u001b[39m \u001b[38;5;28mself\u001b[39m\u001b[38;5;241m.\u001b[39male\u001b[38;5;241m.\u001b[39mgame_over(with_truncation\u001b[38;5;241m=\u001b[39m\u001b[38;5;28;01mFalse\u001b[39;00m)\n\u001b[1;32m    296\u001b[0m is_truncated \u001b[38;5;241m=\u001b[39m \u001b[38;5;28mself\u001b[39m\u001b[38;5;241m.\u001b[39male\u001b[38;5;241m.\u001b[39mgame_truncated()\n",
      "\u001b[0;31mKeyboardInterrupt\u001b[0m: "
     ]
    },
    {
     "name": "stderr",
     "output_type": "stream",
     "text": [
      "R: 3.0, ε: 0.99996:   0%|          | 578/520000 [00:20<11:59, 721.80it/s]"
     ]
    }
   ],
   "source": [
    "total_steps = 0\n",
    "\n",
    "plot_infos = {\"total_steps\": [], \"total_reward\": [], \"epsilon\": []}\n",
    "\n",
    "progress_bar = tqdm(range(MAX_STEPS), desc=\"Training Progress\")\n",
    "\n",
    "while total_steps < MAX_STEPS:\n",
    "    state = env.reset()  # Reset environment to initial state\n",
    "    state = (\n",
    "        torch.tensor(state, dtype=torch.float32).unsqueeze(0).to(device)\n",
    "    )  # Shape [1, 4, 84, 84]\n",
    "\n",
    "    total_reward = 0\n",
    "\n",
    "    while True:\n",
    "        action = select_action(state, policy_net, epsilon, action_space)\n",
    "\n",
    "        # Step the environment\n",
    "        next_state, reward, done, truncated, _ = env.step(action)\n",
    "        next_state = (\n",
    "            torch.tensor(next_state, dtype=torch.float32).unsqueeze(0).to(device)\n",
    "        )\n",
    "\n",
    "        # Store the transition in replay memory\n",
    "        replay_buffer.add((state, action, reward, next_state, done))\n",
    "\n",
    "        state = next_state\n",
    "        total_reward += reward\n",
    "        total_steps += 1\n",
    "\n",
    "        # Only start training when replay memory has enough samples\n",
    "        if len(replay_buffer) >= REPLAY_START_SIZE:\n",
    "            # Sample minibatch from replay buffer\n",
    "            batch = replay_buffer.sample(BATCH_SIZE)\n",
    "\n",
    "            batch_state, batch_action, batch_reward, batch_next_state, batch_done = (\n",
    "                batch_to_tensor(batch)\n",
    "            )\n",
    "            # Compute Q targets\n",
    "            q_values = policy_net(batch_state).gather(1, batch_action)\n",
    "            next_q_values = target_net(batch_next_state).max(1)[0].detach()\n",
    "            target_q_values = batch_reward + (\n",
    "                DISCOUNT_FACTOR * next_q_values * torch.logical_not(batch_done)\n",
    "            )\n",
    "\n",
    "            # Loss is the squared error as mentioned in the paper\n",
    "            loss = nn.MSELoss()(q_values.squeeze(), target_q_values)\n",
    "\n",
    "            # Backpropagate and update the network\n",
    "            optimizer.zero_grad()\n",
    "            loss.backward()\n",
    "            optimizer.step()\n",
    "\n",
    "            # Update target network periodically\n",
    "            if total_steps % TARGET_UPDATE_FREQ == 0:\n",
    "                update_target(policy_net, target_net)\n",
    "\n",
    "            # Save checkpoints every SAVE_FREQUENCY steps\n",
    "            if total_steps % SAVE_FREQUENCY == 0:\n",
    "                torch.save(\n",
    "                    policy_net.state_dict(), f\"checkpoints/checkpoint_{total_steps}.pth\"\n",
    "                )\n",
    "\n",
    "        if done or truncated:\n",
    "            break\n",
    "\n",
    "    # Append the total reward for tracking\n",
    "    plot_infos[\"total_reward\"].append(total_reward)\n",
    "    # Decay epsilon for exploration-exploitation tradeoff\n",
    "    epsilon = max(MIN_EPSILON, epsilon * EPSILON_DECAY)\n",
    "    plot_infos[\"epsilon\"].append(epsilon)\n",
    "    plot_infos[\"total_steps\"].append(total_steps)\n",
    "\n",
    "    progress_bar.set_description(f\"R: {plot_infos['total_reward'][-1]}, ε: {plot_infos['epsilon'][-1]:.5f}\")\n",
    "    progress_bar.update(plot_infos[\"total_steps\"][-1] - progress_bar.n)\n",
    "\n",
    "progress_bar.close()\n",
    "env.close()"
   ]
  },
  {
   "cell_type": "markdown",
   "metadata": {},
   "source": [
    "## Training Progress"
   ]
  },
  {
   "cell_type": "markdown",
   "metadata": {},
   "source": [
    "Here is the training progress of the DQN agent on the Breakout game."
   ]
  },
  {
   "cell_type": "code",
   "execution_count": 49,
   "metadata": {},
   "outputs": [
    {
     "data": {
      "image/png": "[encoded data removed]",
      "text/plain": [
       "<Figure size 1200x500 with 2 Axes>"
      ]
     },
     "metadata": {},
     "output_type": "display_data"
    }
   ],
   "source": [
    "fig, ax1 = plt.subplots(figsize=(12, 5))\n",
    "\n",
    "# Create a secondary y-axis for total rewards\n",
    "ax1.plot(plot_infos['total_steps'], plot_infos['total_reward'], label='Total Reward', color='green')\n",
    "ax1.set_ylabel('Total Reward', color='green')\n",
    "ax1.tick_params(axis='y', labelcolor='green')\n",
    "\n",
    "# Create another secondary y-axis for epsilon values\n",
    "ax2 = ax1.twinx()\n",
    "ax2.spines['right'].set_position(('outward', 60))\n",
    "ax2.plot(plot_infos['total_steps'], plot_infos['epsilon'], label='Epsilon', color='red')\n",
    "ax2.set_ylabel('Epsilon', color='red')\n",
    "ax2.tick_params(axis='y', labelcolor='red')\n",
    "\n",
    "fig.tight_layout()\n",
    "plt.title('Training Progress')\n",
    "plt.show()"
   ]
  },
  {
   "cell_type": "markdown",
   "metadata": {},
   "source": [
    "## Result\n",
    "Here is the training playing each 50000 steps."
   ]
  },
  {
   "cell_type": "code",
   "execution_count": 50,
   "metadata": {},
   "outputs": [
    {
     "name": "stdout",
     "output_type": "stream",
     "text": [
      "Loading checkpoint: checkpoints/checkpoint_50000.pth\n"
     ]
    },
    {
     "name": "stderr",
     "output_type": "stream",
     "text": [
      "/var/folders/mv/3fqdyl697kg4mqs3tkmd7gs80000gn/T/ipykernel_27239/539030423.py:10: FutureWarning: You are using `torch.load` with `weights_only=False` (the current default value), which uses the default pickle module implicitly. It is possible to construct malicious pickle data which will execute arbitrary code during unpickling (See https://github.com/pytorch/pytorch/blob/main/SECURITY.md#untrusted-models for more details). In a future release, the default value for `weights_only` will be flipped to `True`. This limits the functions that could be executed during unpickling. Arbitrary objects will no longer be allowed to be loaded via this mode unless they are explicitly allowlisted by the user via `torch.serialization.add_safe_globals`. We recommend you start setting `weights_only=True` for any use case where you don't have full control of the loaded file. Please open an issue on GitHub for any issues related to this experimental feature.\n",
      "  model.load_state_dict(torch.load(checkpoint_file))\n"
     ]
    },
    {
     "ename": "",
     "evalue": "",
     "output_type": "error",
     "traceback": [
      "\u001b[1;31mThe Kernel crashed while executing code in the current cell or a previous cell. \n",
      "\u001b[1;31mPlease review the code in the cell(s) to identify a possible cause of the failure. \n",
      "\u001b[1;31mClick <a href='https://aka.ms/vscodeJupyterKernelCrash'>here</a> for more info. \n",
      "\u001b[1;31mView Jupyter <a href='command:jupyter.viewOutput'>log</a> for further details."
     ]
    }
   ],
   "source": [
    "import glob\n",
    "import torch\n",
    "import os\n",
    "\n",
    "# Path to checkpoints directory\n",
    "CHECKPOINT_DIR = \"checkpoints\"\n",
    "\n",
    "# Function to load model weights from checkpoint file\n",
    "def load_checkpoint(model, checkpoint_file):\n",
    "    model.load_state_dict(torch.load(checkpoint_file))\n",
    "    model.eval()  # Set the model to evaluation mode (important for inference)\n",
    "\n",
    "# Function to play the game using the loaded model\n",
    "def play_episode(env, model):\n",
    "    obs = env.reset()\n",
    "    state = torch.tensor(obs, dtype=torch.float32).unsqueeze(0).to(device)  # Initial state, [1, 4, 84, 84]\n",
    "    total_reward = 0\n",
    "\n",
    "    done = False\n",
    "    while not done:\n",
    "        with torch.no_grad():\n",
    "            action = model(state).argmax(dim=1).item()  # Select action with highest Q-value\n",
    "        next_state, reward, done, truncated, _ = env.step(action)\n",
    "        next_state = torch.tensor(next_state, dtype=torch.float32).unsqueeze(0).to(device)\n",
    "        state = next_state\n",
    "        total_reward += reward\n",
    "        if done or truncated:\n",
    "            break\n",
    "\n",
    "    return total_reward\n",
    "\n",
    "# Iterate over each checkpoint file and run the evaluation\n",
    "def evaluate_checkpoints(checkpoint_dir):\n",
    "    # Glob all checkpoint files in the directory\n",
    "    checkpoint_files = glob.glob(os.path.join(checkpoint_dir, \"*.pth\"))\n",
    "    \n",
    "    # Sort the checkpoint files if needed\n",
    "    checkpoint_files.sort()\n",
    "\n",
    "    # Create the environment\n",
    "    env = make_env(\"ALE/Breakout-v5\", render_mode=\"human\", frame_skip=1)\n",
    "\n",
    "    # Initialize DQN model (same as the one used during training)\n",
    "    action_space = env.action_space.n\n",
    "    model = DQN(action_space).to(device)  # Create the DQN model\n",
    "\n",
    "    for checkpoint in checkpoint_files:\n",
    "        print(f\"Loading checkpoint: {checkpoint}\")\n",
    "        # Load the model weights from the checkpoint file\n",
    "        load_checkpoint(model, checkpoint)\n",
    "\n",
    "        # Play one episode with the loaded model and print the total reward\n",
    "        total_reward = play_episode(env, model)\n",
    "        print(f\"Checkpoint {checkpoint}: Total Reward = {total_reward}\")\n",
    "\n",
    "    env.close()\n",
    "\n",
    "# Call the function to evaluate the checkpoints\n",
    "evaluate_checkpoints(CHECKPOINT_DIR)"
   ]
  }
 ],
 "metadata": {
  "kernelspec": {
   "display_name": "research-rl",
   "language": "python",
   "name": "python3"
  },
  "language_info": {
   "codemirror_mode": {
    "name": "ipython",
    "version": 3
   },
   "file_extension": ".py",
   "mimetype": "text/x-python",
   "name": "python",
   "nbconvert_exporter": "python",
   "pygments_lexer": "ipython3",
   "version": "3.11.9"
  }
 },
 "nbformat": 4,
 "nbformat_minor": 2
}
